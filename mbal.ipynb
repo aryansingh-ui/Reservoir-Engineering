{
  "nbformat": 4,
  "nbformat_minor": 0,
  "metadata": {
    "colab": {
      "name": "mbal.ipynb",
      "provenance": [],
      "collapsed_sections": [],
      "authorship_tag": "ABX9TyP4H2ZljGgyqikBJOwcxz3P",
      "include_colab_link": true
    },
    "kernelspec": {
      "name": "python3",
      "display_name": "Python 3"
    },
    "language_info": {
      "name": "python"
    }
  },
  "cells": [
    {
      "cell_type": "markdown",
      "metadata": {
        "id": "view-in-github",
        "colab_type": "text"
      },
      "source": [
        "<a href=\"https://colab.research.google.com/github/aryansingh-ui/hello-world/blob/main/mbal.ipynb\" target=\"_parent\"><img src=\"https://colab.research.google.com/assets/colab-badge.svg\" alt=\"Open In Colab\"/></a>"
      ]
    },
    {
      "cell_type": "code",
      "metadata": {
        "id": "4QqDChzTbLkr"
      },
      "source": [
        "import matplotlib.pyplot as plt\n",
        "import numpy as np\n",
        "import pandas as pd"
      ],
      "execution_count": 1,
      "outputs": []
    },
    {
      "cell_type": "code",
      "metadata": {
        "colab": {
          "base_uri": "https://localhost:8080/"
        },
        "id": "4RE7Tm2k86dH",
        "outputId": "e8c5bc64-2c93-4768-99e2-88786fdfee62"
      },
      "source": [
        "!git clone 'https://github.com/yohanesnuwara/pyreservoir'"
      ],
      "execution_count": 4,
      "outputs": [
        {
          "output_type": "stream",
          "text": [
            "Cloning into 'pyreservoir'...\n",
            "remote: Enumerating objects: 36, done.\u001b[K\n",
            "remote: Counting objects: 100% (36/36), done.\u001b[K\n",
            "remote: Compressing objects: 100% (31/31), done.\u001b[K\n",
            "remote: Total 951 (delta 16), reused 0 (delta 0), pack-reused 915\u001b[K\n",
            "Receiving objects: 100% (951/951), 24.45 MiB | 21.47 MiB/s, done.\n",
            "Resolving deltas: 100% (505/505), done.\n"
          ],
          "name": "stdout"
        }
      ]
    },
    {
      "cell_type": "code",
      "metadata": {
        "id": "Lj2hgNUd9-wS"
      },
      "source": [
        "import sys\n",
        "sys.path.append('/content/pyreservoir/matbal')\n",
        "#importing system,when you hve cloned a repository when you put it in a directory,when you are using software you can locate a file in certain directory\n",
        "#"
      ],
      "execution_count": 5,
      "outputs": []
    },
    {
      "cell_type": "code",
      "metadata": {
        "id": "9R1Gi5Yi_lYr"
      },
      "source": [
        "#from mbal module and from that import the functions\n",
        "from mbal import drygas,gascondensate,oil"
      ],
      "execution_count": 6,
      "outputs": []
    },
    {
      "cell_type": "code",
      "metadata": {
        "id": "Iq8qlQLF9Vsf"
      },
      "source": [
        "#Linear Regression or curve fitting\n",
        "#import curve_fit from scipy\n",
        "\n",
        "from scipy.optimize import curve_fit\n"
      ],
      "execution_count": 9,
      "outputs": []
    },
    {
      "cell_type": "code",
      "metadata": {
        "id": "xIj_vDSaA607"
      },
      "source": [
        "x = np.linspace(0,50,100)\n",
        "\n",
        "\n",
        "def linear(x,a,b):\n",
        "  y = a * x + b\n",
        "  return y\n"
      ],
      "execution_count": 12,
      "outputs": []
    },
    {
      "cell_type": "code",
      "metadata": {
        "colab": {
          "base_uri": "https://localhost:8080/",
          "height": 265
        },
        "id": "4_-4PDFoBMml",
        "outputId": "c08098ad-8ced-42d5-fb70-f38bd9f28059"
      },
      "source": [
        "#create dummy data with a=0.5,b=1\n",
        "#add with random noise,multiplied by 1.5\n",
        "a=0.5\n",
        "b=1\n",
        "y = linear(x,a,b)\n",
        "\n",
        "noise =np.random.random(100)\n",
        "y=y+noise\n",
        "plt.plot(x,y,'.')\n",
        "plt.show()"
      ],
      "execution_count": 18,
      "outputs": [
        {
          "output_type": "display_data",
          "data": {
            "image/png": "[encoded data removed]",
            "text/plain": [
              "<Figure size 432x288 with 1 Axes>"
            ]
          },
          "metadata": {
            "tags": [],
            "needs_background": "light"
          }
        }
      ]
    },
    {
      "cell_type": "code",
      "metadata": {
        "id": "TrV18LrXCCfD"
      },
      "source": [
        "popt,pcov = curve_fit(linear,x,y)"
      ],
      "execution_count": 19,
      "outputs": []
    },
    {
      "cell_type": "code",
      "metadata": {
        "colab": {
          "base_uri": "https://localhost:8080/"
        },
        "id": "BHE4WeOXCDQ7",
        "outputId": "27f201cb-7629-4ef1-c50d-bcabae72bb34"
      },
      "source": [
        "popt\n",
        "#popt is the most appropriate value of a,b"
      ],
      "execution_count": 20,
      "outputs": [
        {
          "output_type": "execute_result",
          "data": {
            "text/plain": [
              "array([0.50037462, 1.49829083])"
            ]
          },
          "metadata": {
            "tags": []
          },
          "execution_count": 20
        }
      ]
    },
    {
      "cell_type": "code",
      "metadata": {
        "colab": {
          "base_uri": "https://localhost:8080/"
        },
        "id": "T2aNJkXCCqsS",
        "outputId": "44ebf1b1-980c-48d2-e2e9-4aecbb32c851"
      },
      "source": [
        "a,b =popt\n",
        "#its bcuz we have added noise"
      ],
      "execution_count": 23,
      "outputs": [
        {
          "output_type": "execute_result",
          "data": {
            "text/plain": [
              "1.498290830212236"
            ]
          },
          "metadata": {
            "tags": []
          },
          "execution_count": 23
        }
      ]
    },
    {
      "cell_type": "code",
      "metadata": {
        "colab": {
          "base_uri": "https://localhost:8080/",
          "height": 265
        },
        "id": "BclD5LCGCxSB",
        "outputId": "6ea2a635-6d05-4df2-d9f4-980c32a8c724"
      },
      "source": [
        "yreg = a*x+b\n",
        "plt.plot(x,y,'.',color='green',alpha=0.5)\n",
        "plt.plot(x,yreg,color='red')\n",
        "plt.show()"
      ],
      "execution_count": 27,
      "outputs": [
        {
          "output_type": "display_data",
          "data": {
            "image/png": "[encoded data removed]",
            "text/plain": [
              "<Figure size 432x288 with 1 Axes>"
            ]
          },
          "metadata": {
            "tags": [],
            "needs_background": "light"
          }
        }
      ]
    },
    {
      "cell_type": "code",
      "metadata": {
        "colab": {
          "base_uri": "https://localhost:8080/",
          "height": 700
        },
        "id": "YOimnc48D27Q",
        "outputId": "6fc82c01-ee75-4724-d79a-d7d95c8b8177"
      },
      "source": [
        "#DRY GAS RESERVOIR,ONLY GAS IS PRODUCED,NO LIQUID,DUE TO GAS EXPANSION,NO LIQUID DRIVE\n",
        "#RECOVERY FACTOR IS RELATIVELY HIGH\n",
        "filepath='/content/pyreservoir/data/dry_gas_with_waterdrive.csv'\n",
        "data =pd.read_csv(filepath)\n",
        "data"
      ],
      "execution_count": 29,
      "outputs": [
        {
          "output_type": "execute_result",
          "data": {
            "text/html": [
              "<div>\n",
              "<style scoped>\n",
              "    .dataframe tbody tr th:only-of-type {\n",
              "        vertical-align: middle;\n",
              "    }\n",
              "\n",
              "    .dataframe tbody tr th {\n",
              "        vertical-align: top;\n",
              "    }\n",
              "\n",
              "    .dataframe thead th {\n",
              "        text-align: right;\n",
              "    }\n",
              "</style>\n",
              "<table border=\"1\" class=\"dataframe\">\n",
              "  <thead>\n",
              "    <tr style=\"text-align: right;\">\n",
              "      <th></th>\n",
              "      <th>t</th>\n",
              "      <th>p</th>\n",
              "      <th>Gp</th>\n",
              "      <th>Np</th>\n",
              "      <th>total_Gp</th>\n",
              "      <th>Wp</th>\n",
              "      <th>Bg</th>\n",
              "      <th>Bw</th>\n",
              "      <th>z</th>\n",
              "    </tr>\n",
              "  </thead>\n",
              "  <tbody>\n",
              "    <tr>\n",
              "      <th>0</th>\n",
              "      <td>0.0</td>\n",
              "      <td>8490.0</td>\n",
              "      <td>0.0</td>\n",
              "      <td>0.0</td>\n",
              "      <td>0.00</td>\n",
              "      <td>0</td>\n",
              "      <td>0.5404</td>\n",
              "      <td>1.0518</td>\n",
              "      <td>1.271392</td>\n",
              "    </tr>\n",
              "    <tr>\n",
              "      <th>1</th>\n",
              "      <td>0.5</td>\n",
              "      <td>8330.0</td>\n",
              "      <td>1758.0</td>\n",
              "      <td>2000.0</td>\n",
              "      <td>1759.42</td>\n",
              "      <td>0</td>\n",
              "      <td>0.5458</td>\n",
              "      <td>1.0520</td>\n",
              "      <td>1.259897</td>\n",
              "    </tr>\n",
              "    <tr>\n",
              "      <th>2</th>\n",
              "      <td>1.0</td>\n",
              "      <td>8323.0</td>\n",
              "      <td>5852.0</td>\n",
              "      <td>30000.0</td>\n",
              "      <td>5873.24</td>\n",
              "      <td>1000</td>\n",
              "      <td>0.5460</td>\n",
              "      <td>1.0520</td>\n",
              "      <td>1.259299</td>\n",
              "    </tr>\n",
              "    <tr>\n",
              "      <th>3</th>\n",
              "      <td>1.5</td>\n",
              "      <td>8166.0</td>\n",
              "      <td>10410.0</td>\n",
              "      <td>66000.0</td>\n",
              "      <td>10456.73</td>\n",
              "      <td>3000</td>\n",
              "      <td>0.5516</td>\n",
              "      <td>1.0522</td>\n",
              "      <td>1.248217</td>\n",
              "    </tr>\n",
              "    <tr>\n",
              "      <th>4</th>\n",
              "      <td>2.0</td>\n",
              "      <td>8100.0</td>\n",
              "      <td>14828.0</td>\n",
              "      <td>98000.0</td>\n",
              "      <td>14897.38</td>\n",
              "      <td>4000</td>\n",
              "      <td>0.5540</td>\n",
              "      <td>1.0522</td>\n",
              "      <td>1.243516</td>\n",
              "    </tr>\n",
              "    <tr>\n",
              "      <th>5</th>\n",
              "      <td>2.5</td>\n",
              "      <td>7905.0</td>\n",
              "      <td>21097.0</td>\n",
              "      <td>138000.0</td>\n",
              "      <td>21194.70</td>\n",
              "      <td>7000</td>\n",
              "      <td>0.5614</td>\n",
              "      <td>1.0524</td>\n",
              "      <td>1.229789</td>\n",
              "    </tr>\n",
              "    <tr>\n",
              "      <th>6</th>\n",
              "      <td>3.0</td>\n",
              "      <td>7854.0</td>\n",
              "      <td>26399.0</td>\n",
              "      <td>180000.0</td>\n",
              "      <td>26526.44</td>\n",
              "      <td>9000</td>\n",
              "      <td>0.5634</td>\n",
              "      <td>1.0525</td>\n",
              "      <td>1.226208</td>\n",
              "    </tr>\n",
              "    <tr>\n",
              "      <th>7</th>\n",
              "      <td>3.5</td>\n",
              "      <td>7858.0</td>\n",
              "      <td>30042.0</td>\n",
              "      <td>215000.0</td>\n",
              "      <td>30194.22</td>\n",
              "      <td>10000</td>\n",
              "      <td>0.5632</td>\n",
              "      <td>1.0525</td>\n",
              "      <td>1.226397</td>\n",
              "    </tr>\n",
              "    <tr>\n",
              "      <th>8</th>\n",
              "      <td>4.0</td>\n",
              "      <td>7900.0</td>\n",
              "      <td>32766.0</td>\n",
              "      <td>237000.0</td>\n",
              "      <td>32933.80</td>\n",
              "      <td>11000</td>\n",
              "      <td>0.5616</td>\n",
              "      <td>1.0524</td>\n",
              "      <td>1.229449</td>\n",
              "    </tr>\n",
              "    <tr>\n",
              "      <th>9</th>\n",
              "      <td>4.5</td>\n",
              "      <td>7971.0</td>\n",
              "      <td>34548.0</td>\n",
              "      <td>257000.0</td>\n",
              "      <td>34729.96</td>\n",
              "      <td>11000</td>\n",
              "      <td>0.5588</td>\n",
              "      <td>1.0524</td>\n",
              "      <td>1.234314</td>\n",
              "    </tr>\n",
              "    <tr>\n",
              "      <th>10</th>\n",
              "      <td>5.0</td>\n",
              "      <td>7883.0</td>\n",
              "      <td>37590.0</td>\n",
              "      <td>282000.0</td>\n",
              "      <td>37789.66</td>\n",
              "      <td>12000</td>\n",
              "      <td>0.5622</td>\n",
              "      <td>1.0525</td>\n",
              "      <td>1.228114</td>\n",
              "    </tr>\n",
              "    <tr>\n",
              "      <th>11</th>\n",
              "      <td>5.5</td>\n",
              "      <td>7728.0</td>\n",
              "      <td>42446.0</td>\n",
              "      <td>314000.0</td>\n",
              "      <td>42668.31</td>\n",
              "      <td>16000</td>\n",
              "      <td>0.5684</td>\n",
              "      <td>1.0526</td>\n",
              "      <td>1.217244</td>\n",
              "    </tr>\n",
              "    <tr>\n",
              "      <th>12</th>\n",
              "      <td>6.0</td>\n",
              "      <td>7550.0</td>\n",
              "      <td>51117.0</td>\n",
              "      <td>375000.0</td>\n",
              "      <td>51382.50</td>\n",
              "      <td>54000</td>\n",
              "      <td>0.5759</td>\n",
              "      <td>1.0528</td>\n",
              "      <td>1.204899</td>\n",
              "    </tr>\n",
              "    <tr>\n",
              "      <th>13</th>\n",
              "      <td>6.5</td>\n",
              "      <td>7446.0</td>\n",
              "      <td>57697.0</td>\n",
              "      <td>420000.0</td>\n",
              "      <td>57994.36</td>\n",
              "      <td>153000</td>\n",
              "      <td>0.5804</td>\n",
              "      <td>1.0529</td>\n",
              "      <td>1.197586</td>\n",
              "    </tr>\n",
              "    <tr>\n",
              "      <th>14</th>\n",
              "      <td>7.0</td>\n",
              "      <td>7400.0</td>\n",
              "      <td>63678.0</td>\n",
              "      <td>465000.0</td>\n",
              "      <td>64007.22</td>\n",
              "      <td>433000</td>\n",
              "      <td>0.5825</td>\n",
              "      <td>1.0530</td>\n",
              "      <td>1.194494</td>\n",
              "    </tr>\n",
              "    <tr>\n",
              "      <th>15</th>\n",
              "      <td>7.5</td>\n",
              "      <td>7600.0</td>\n",
              "      <td>65432.0</td>\n",
              "      <td>475000.0</td>\n",
              "      <td>65768.30</td>\n",
              "      <td>715000</td>\n",
              "      <td>0.5737</td>\n",
              "      <td>1.0528</td>\n",
              "      <td>1.208245</td>\n",
              "    </tr>\n",
              "    <tr>\n",
              "      <th>16</th>\n",
              "      <td>8.0</td>\n",
              "      <td>7675.0</td>\n",
              "      <td>65613.0</td>\n",
              "      <td>475000.0</td>\n",
              "      <td>65949.30</td>\n",
              "      <td>753000</td>\n",
              "      <td>0.5706</td>\n",
              "      <td>1.0528</td>\n",
              "      <td>1.213575</td>\n",
              "    </tr>\n",
              "    <tr>\n",
              "      <th>17</th>\n",
              "      <td>8.5</td>\n",
              "      <td>7600.0</td>\n",
              "      <td>67593.0</td>\n",
              "      <td>477000.0</td>\n",
              "      <td>67930.72</td>\n",
              "      <td>1042000</td>\n",
              "      <td>0.5737</td>\n",
              "      <td>1.0527</td>\n",
              "      <td>1.208245</td>\n",
              "    </tr>\n",
              "    <tr>\n",
              "      <th>18</th>\n",
              "      <td>9.0</td>\n",
              "      <td>7600.0</td>\n",
              "      <td>70688.0</td>\n",
              "      <td>484000.0</td>\n",
              "      <td>71030.67</td>\n",
              "      <td>1237000</td>\n",
              "      <td>0.5737</td>\n",
              "      <td>1.0528</td>\n",
              "      <td>1.208245</td>\n",
              "    </tr>\n",
              "    <tr>\n",
              "      <th>19</th>\n",
              "      <td>9.5</td>\n",
              "      <td>7615.0</td>\n",
              "      <td>72226.0</td>\n",
              "      <td>488000.0</td>\n",
              "      <td>72571.50</td>\n",
              "      <td>1575000</td>\n",
              "      <td>0.5731</td>\n",
              "      <td>1.0527</td>\n",
              "      <td>1.209363</td>\n",
              "    </tr>\n",
              "    <tr>\n",
              "      <th>20</th>\n",
              "      <td>10.0</td>\n",
              "      <td>7623.0</td>\n",
              "      <td>72943.0</td>\n",
              "      <td>489000.0</td>\n",
              "      <td>73289.21</td>\n",
              "      <td>2383000</td>\n",
              "      <td>0.5728</td>\n",
              "      <td>1.0527</td>\n",
              "      <td>1.210000</td>\n",
              "    </tr>\n",
              "  </tbody>\n",
              "</table>\n",
              "</div>"
            ],
            "text/plain": [
              "       t       p       Gp        Np  ...       Wp      Bg      Bw         z\n",
              "0    0.0  8490.0      0.0       0.0  ...        0  0.5404  1.0518  1.271392\n",
              "1    0.5  8330.0   1758.0    2000.0  ...        0  0.5458  1.0520  1.259897\n",
              "2    1.0  8323.0   5852.0   30000.0  ...     1000  0.5460  1.0520  1.259299\n",
              "3    1.5  8166.0  10410.0   66000.0  ...     3000  0.5516  1.0522  1.248217\n",
              "4    2.0  8100.0  14828.0   98000.0  ...     4000  0.5540  1.0522  1.243516\n",
              "5    2.5  7905.0  21097.0  138000.0  ...     7000  0.5614  1.0524  1.229789\n",
              "6    3.0  7854.0  26399.0  180000.0  ...     9000  0.5634  1.0525  1.226208\n",
              "7    3.5  7858.0  30042.0  215000.0  ...    10000  0.5632  1.0525  1.226397\n",
              "8    4.0  7900.0  32766.0  237000.0  ...    11000  0.5616  1.0524  1.229449\n",
              "9    4.5  7971.0  34548.0  257000.0  ...    11000  0.5588  1.0524  1.234314\n",
              "10   5.0  7883.0  37590.0  282000.0  ...    12000  0.5622  1.0525  1.228114\n",
              "11   5.5  7728.0  42446.0  314000.0  ...    16000  0.5684  1.0526  1.217244\n",
              "12   6.0  7550.0  51117.0  375000.0  ...    54000  0.5759  1.0528  1.204899\n",
              "13   6.5  7446.0  57697.0  420000.0  ...   153000  0.5804  1.0529  1.197586\n",
              "14   7.0  7400.0  63678.0  465000.0  ...   433000  0.5825  1.0530  1.194494\n",
              "15   7.5  7600.0  65432.0  475000.0  ...   715000  0.5737  1.0528  1.208245\n",
              "16   8.0  7675.0  65613.0  475000.0  ...   753000  0.5706  1.0528  1.213575\n",
              "17   8.5  7600.0  67593.0  477000.0  ...  1042000  0.5737  1.0527  1.208245\n",
              "18   9.0  7600.0  70688.0  484000.0  ...  1237000  0.5737  1.0528  1.208245\n",
              "19   9.5  7615.0  72226.0  488000.0  ...  1575000  0.5731  1.0527  1.209363\n",
              "20  10.0  7623.0  72943.0  489000.0  ...  2383000  0.5728  1.0527  1.210000\n",
              "\n",
              "[21 rows x 9 columns]"
            ]
          },
          "metadata": {
            "tags": []
          },
          "execution_count": 29
        }
      ]
    },
    {
      "cell_type": "code",
      "metadata": {
        "id": "XhYl84SdF0c3"
      },
      "source": [
        "t = data['t'].values\n",
        "p = data['p'].values\n",
        "Gp = data['Gp'].values\n",
        "Np = data['Np'].values"
      ],
      "execution_count": 40,
      "outputs": []
    },
    {
      "cell_type": "code",
      "metadata": {
        "colab": {
          "base_uri": "https://localhost:8080/",
          "height": 265
        },
        "id": "dd4KqDIiHTdk",
        "outputId": "7a077cf4-9422-4112-8065-f9973e550cd8"
      },
      "source": [
        "plt.plot(t,Np,'.-')\n",
        "plt.plot(t,Gp,'.-')\n",
        "plt.plot(t,p,'.-')\n",
        "plt.show()"
      ],
      "execution_count": 45,
      "outputs": [
        {
          "output_type": "display_data",
          "data": {
            "image/png": "[encoded data removed]",
            "text/plain": [
              "<Figure size 432x288 with 1 Axes>"
            ]
          },
          "metadata": {
            "tags": [],
            "needs_background": "light"
          }
        }
      ]
    },
    {
      "cell_type": "code",
      "metadata": {
        "colab": {
          "base_uri": "https://localhost:8080/",
          "height": 498
        },
        "id": "_YUEDUzrGmNf",
        "outputId": "caf8bd45-08d5-4901-9993-6a853ed8339e"
      },
      "source": [
        "fig = plt.figure(figsize=(12,7))\n",
        "\n",
        "host = fig.add_subplot(111)\n",
        "par1 = host.twinx()\n",
        "par2 = host.twinx()\n",
        "\n",
        "host.plot(t,p,'.-',color='red',label='Pressure')\n",
        "par1.plot(t,Np,'.-',color='purple',label='Oil Prod')\n",
        "par2.plot(t,Gp,'.-',label='Gas Prod')\n",
        "par2.spines['right'].set_position(('outward',80))\n",
        "\n",
        "host.set_title('Production History',size=20,pad=10)\n",
        "host.set_xlabel('Time [Date]')\n",
        "host.set_ylabel('Pressure [psi]')\n",
        "par1.set_ylabel('Cum Oil Prod  [MMSTB]')\n",
        "par2.set_ylabel('Cum Gas Prod  [MMSscf]')\n",
        "host.set_xlim(min(t),max(t))\n",
        "fig.legend()\n",
        "plt.show()"
      ],
      "execution_count": 54,
      "outputs": [
        {
          "output_type": "display_data",
          "data": {
            "image/png": "[encoded data removed]",
            "text/plain": [
              "<Figure size 864x504 with 3 Axes>"
            ]
          },
          "metadata": {
            "tags": [],
            "needs_background": "light"
          }
        }
      ]
    },
    {
      "cell_type": "code",
      "metadata": {
        "id": "Plzd8X2-Gn3Q"
      },
      "source": [
        ""
      ],
      "execution_count": null,
      "outputs": []
    }
  ]
}