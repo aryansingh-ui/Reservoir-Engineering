{
 "cells": [
  {
   "cell_type": "code",
   "execution_count": 1,
   "metadata": {},
   "outputs": [],
   "source": [
    "import numpy as np \n",
    "import matplotlib.pyplot as plt\n",
    "import pandas as pd"
   ]
  },
  {
   "cell_type": "code",
   "execution_count": 3,
   "metadata": {},
   "outputs": [],
   "source": [
    "#Assumed Values of Bo and Rp\n",
    "#Since we are talking about an undersaturated reservoir and we know that during undersaturated reservoir Rp = Rsi,\n",
    "# Value of Rp will be constant Rp = 112,\n",
    "#For the Bo values we have assumed a set of values and then using Linear Regression Model obtained the accurate values for,\n",
    "#our data\n",
    "\n",
    "\n",
    "pressure= np.arange(5000,3900,-100)\n",
    "Bo= np.array([1.078,1.07826,1.07832,1.07842,1.07850,1.07854,1.07860,1.07877,1.07880,1.07883,1.07891])\n",
    "Rp=[]\n",
    "for i in range(1,12):\n",
    "    rp=112\n",
    "    Rp.append(rp)"
   ]
  },
  {
   "cell_type": "code",
   "execution_count": 7,
   "metadata": {},
   "outputs": [
    {
     "data": {
      "text/plain": [
       "11"
      ]
     },
     "execution_count": 7,
     "metadata": {},
     "output_type": "execute_result"
    }
   ],
   "source": [
    "len(pressure)\n",
    "len(Bo)\n",
    "len(Rp)"
   ]
  },
  {
   "cell_type": "code",
   "execution_count": 60,
   "metadata": {},
   "outputs": [],
   "source": [
    "df=pd.DataFrame({'Pressure': pressure,'Bo': Bo,'Prod_GOR': Rp})"
   ]
  },
  {
   "cell_type": "code",
   "execution_count": 61,
   "metadata": {},
   "outputs": [
    {
     "data": {
      "text/html": [
       "<div>\n",
       "<style scoped>\n",
       "    .dataframe tbody tr th:only-of-type {\n",
       "        vertical-align: middle;\n",
       "    }\n",
       "\n",
       "    .dataframe tbody tr th {\n",
       "        vertical-align: top;\n",
       "    }\n",
       "\n",
       "    .dataframe thead th {\n",
       "        text-align: right;\n",
       "    }\n",
       "</style>\n",
       "<table border=\"1\" class=\"dataframe\">\n",
       "  <thead>\n",
       "    <tr style=\"text-align: right;\">\n",
       "      <th></th>\n",
       "      <th>Pressure</th>\n",
       "      <th>Bo</th>\n",
       "      <th>Prod_GOR</th>\n",
       "    </tr>\n",
       "  </thead>\n",
       "  <tbody>\n",
       "    <tr>\n",
       "      <th>0</th>\n",
       "      <td>5000</td>\n",
       "      <td>1.07800</td>\n",
       "      <td>112</td>\n",
       "    </tr>\n",
       "    <tr>\n",
       "      <th>1</th>\n",
       "      <td>4900</td>\n",
       "      <td>1.07826</td>\n",
       "      <td>112</td>\n",
       "    </tr>\n",
       "    <tr>\n",
       "      <th>2</th>\n",
       "      <td>4800</td>\n",
       "      <td>1.07832</td>\n",
       "      <td>112</td>\n",
       "    </tr>\n",
       "    <tr>\n",
       "      <th>3</th>\n",
       "      <td>4700</td>\n",
       "      <td>1.07842</td>\n",
       "      <td>112</td>\n",
       "    </tr>\n",
       "    <tr>\n",
       "      <th>4</th>\n",
       "      <td>4600</td>\n",
       "      <td>1.07850</td>\n",
       "      <td>112</td>\n",
       "    </tr>\n",
       "    <tr>\n",
       "      <th>5</th>\n",
       "      <td>4500</td>\n",
       "      <td>1.07854</td>\n",
       "      <td>112</td>\n",
       "    </tr>\n",
       "    <tr>\n",
       "      <th>6</th>\n",
       "      <td>4400</td>\n",
       "      <td>1.07860</td>\n",
       "      <td>112</td>\n",
       "    </tr>\n",
       "    <tr>\n",
       "      <th>7</th>\n",
       "      <td>4300</td>\n",
       "      <td>1.07877</td>\n",
       "      <td>112</td>\n",
       "    </tr>\n",
       "    <tr>\n",
       "      <th>8</th>\n",
       "      <td>4200</td>\n",
       "      <td>1.07880</td>\n",
       "      <td>112</td>\n",
       "    </tr>\n",
       "    <tr>\n",
       "      <th>9</th>\n",
       "      <td>4100</td>\n",
       "      <td>1.07883</td>\n",
       "      <td>112</td>\n",
       "    </tr>\n",
       "    <tr>\n",
       "      <th>10</th>\n",
       "      <td>4000</td>\n",
       "      <td>1.07891</td>\n",
       "      <td>112</td>\n",
       "    </tr>\n",
       "  </tbody>\n",
       "</table>\n",
       "</div>"
      ],
      "text/plain": [
       "    Pressure       Bo  Prod_GOR\n",
       "0       5000  1.07800       112\n",
       "1       4900  1.07826       112\n",
       "2       4800  1.07832       112\n",
       "3       4700  1.07842       112\n",
       "4       4600  1.07850       112\n",
       "5       4500  1.07854       112\n",
       "6       4400  1.07860       112\n",
       "7       4300  1.07877       112\n",
       "8       4200  1.07880       112\n",
       "9       4100  1.07883       112\n",
       "10      4000  1.07891       112"
      ]
     },
     "execution_count": 61,
     "metadata": {},
     "output_type": "execute_result"
    }
   ],
   "source": [
    "df"
   ]
  },
  {
   "cell_type": "code",
   "execution_count": 37,
   "metadata": {},
   "outputs": [
    {
     "data": {
      "text/plain": [
       "[<matplotlib.lines.Line2D at 0x29496c0730>]"
      ]
     },
     "execution_count": 37,
     "metadata": {},
     "output_type": "execute_result"
    },
    {
     "data": {
      "image/png": "[encoded data removed]",
      "text/plain": [
       "<Figure size 432x288 with 1 Axes>"
      ]
     },
     "metadata": {
      "needs_background": "light"
     },
     "output_type": "display_data"
    }
   ],
   "source": [
    "# Assumed Bo Values\n",
    "plt.plot(df['Pressure'],df['Bo'])\n"
   ]
  },
  {
   "cell_type": "code",
   "execution_count": 40,
   "metadata": {},
   "outputs": [],
   "source": [
    "p= df['Pressure']\n",
    "b= df['Bo']"
   ]
  },
  {
   "cell_type": "code",
   "execution_count": 41,
   "metadata": {},
   "outputs": [],
   "source": [
    "def linear(p,m,c):\n",
    "    return m*p+c\n",
    "    "
   ]
  },
  {
   "cell_type": "code",
   "execution_count": 42,
   "metadata": {},
   "outputs": [],
   "source": [
    "from scipy.optimize import curve_fit\n",
    "\n",
    "popt,pcov = curve_fit(linear,p,b)"
   ]
  },
  {
   "cell_type": "code",
   "execution_count": 43,
   "metadata": {},
   "outputs": [],
   "source": [
    "m,c = popt"
   ]
  },
  {
   "cell_type": "code",
   "execution_count": 44,
   "metadata": {},
   "outputs": [
    {
     "data": {
      "text/plain": [
       "-8.245454067406768e-07"
      ]
     },
     "execution_count": 44,
     "metadata": {},
     "output_type": "execute_result"
    }
   ],
   "source": [
    "m"
   ]
  },
  {
   "cell_type": "code",
   "execution_count": 45,
   "metadata": {},
   "outputs": [
    {
     "data": {
      "text/plain": [
       "1.082251363421244"
      ]
     },
     "execution_count": 45,
     "metadata": {},
     "output_type": "execute_result"
    }
   ],
   "source": [
    "c"
   ]
  },
  {
   "cell_type": "code",
   "execution_count": 53,
   "metadata": {},
   "outputs": [
    {
     "data": {
      "text/plain": [
       "3999.9999991076347"
      ]
     },
     "execution_count": 53,
     "metadata": {},
     "output_type": "execute_result"
    }
   ],
   "source": [
    "linear(m,c,4000)"
   ]
  },
  {
   "cell_type": "code",
   "execution_count": 54,
   "metadata": {},
   "outputs": [
    {
     "data": {
      "text/plain": [
       "array([1.07812864, 1.07821109, 1.07829355, 1.078376  , 1.07845845,\n",
       "       1.07854091, 1.07862336, 1.07870582, 1.07878827, 1.07887073,\n",
       "       1.07895318])"
      ]
     },
     "execution_count": 54,
     "metadata": {},
     "output_type": "execute_result"
    }
   ],
   "source": [
    "p_forecast = np.arange(5000,3900,-100)\n",
    "b_forecast = linear(p_forecast,m,c)\n",
    "b_forecast"
   ]
  },
  {
   "cell_type": "code",
   "execution_count": 52,
   "metadata": {},
   "outputs": [
    {
     "data": {
      "text/plain": [
       "<matplotlib.legend.Legend at 0x294bca9100>"
      ]
     },
     "execution_count": 52,
     "metadata": {},
     "output_type": "execute_result"
    },
    {
     "data": {
      "image/png": "[encoded data removed]",
      "text/plain": [
       "<Figure size 432x288 with 1 Axes>"
      ]
     },
     "metadata": {
      "needs_background": "light"
     },
     "output_type": "display_data"
    }
   ],
   "source": [
    "plt.plot(p, b, color='red', label='Actual')\n",
    "plt.plot(p_forecast, b_forecast, label='Forecast')\n",
    "\n",
    "plt.xlabel('Pressure')\n",
    "plt.ylabel('Bo')\n",
    "plt.legend()"
   ]
  },
  {
   "cell_type": "code",
   "execution_count": 63,
   "metadata": {},
   "outputs": [
    {
     "data": {
      "text/plain": [
       "array([1.07812864, 1.07821109, 1.07829355, 1.078376  , 1.07845845,\n",
       "       1.07854091, 1.07862336, 1.07870582, 1.07878827, 1.07887073,\n",
       "       1.07895318])"
      ]
     },
     "execution_count": 63,
     "metadata": {},
     "output_type": "execute_result"
    }
   ],
   "source": [
    "# New Bo Values\n",
    "b_forecast"
   ]
  },
  {
   "cell_type": "code",
   "execution_count": 64,
   "metadata": {},
   "outputs": [
    {
     "data": {
      "text/html": [
       "<div>\n",
       "<style scoped>\n",
       "    .dataframe tbody tr th:only-of-type {\n",
       "        vertical-align: middle;\n",
       "    }\n",
       "\n",
       "    .dataframe tbody tr th {\n",
       "        vertical-align: top;\n",
       "    }\n",
       "\n",
       "    .dataframe thead th {\n",
       "        text-align: right;\n",
       "    }\n",
       "</style>\n",
       "<table border=\"1\" class=\"dataframe\">\n",
       "  <thead>\n",
       "    <tr style=\"text-align: right;\">\n",
       "      <th></th>\n",
       "      <th>Pressure</th>\n",
       "      <th>Bo</th>\n",
       "      <th>Prod_GOR</th>\n",
       "    </tr>\n",
       "  </thead>\n",
       "  <tbody>\n",
       "    <tr>\n",
       "      <th>0</th>\n",
       "      <td>5000</td>\n",
       "      <td>1.078129</td>\n",
       "      <td>112</td>\n",
       "    </tr>\n",
       "    <tr>\n",
       "      <th>1</th>\n",
       "      <td>4900</td>\n",
       "      <td>1.078211</td>\n",
       "      <td>112</td>\n",
       "    </tr>\n",
       "    <tr>\n",
       "      <th>2</th>\n",
       "      <td>4800</td>\n",
       "      <td>1.078294</td>\n",
       "      <td>112</td>\n",
       "    </tr>\n",
       "    <tr>\n",
       "      <th>3</th>\n",
       "      <td>4700</td>\n",
       "      <td>1.078376</td>\n",
       "      <td>112</td>\n",
       "    </tr>\n",
       "    <tr>\n",
       "      <th>4</th>\n",
       "      <td>4600</td>\n",
       "      <td>1.078458</td>\n",
       "      <td>112</td>\n",
       "    </tr>\n",
       "    <tr>\n",
       "      <th>5</th>\n",
       "      <td>4500</td>\n",
       "      <td>1.078541</td>\n",
       "      <td>112</td>\n",
       "    </tr>\n",
       "    <tr>\n",
       "      <th>6</th>\n",
       "      <td>4400</td>\n",
       "      <td>1.078623</td>\n",
       "      <td>112</td>\n",
       "    </tr>\n",
       "    <tr>\n",
       "      <th>7</th>\n",
       "      <td>4300</td>\n",
       "      <td>1.078706</td>\n",
       "      <td>112</td>\n",
       "    </tr>\n",
       "    <tr>\n",
       "      <th>8</th>\n",
       "      <td>4200</td>\n",
       "      <td>1.078788</td>\n",
       "      <td>112</td>\n",
       "    </tr>\n",
       "    <tr>\n",
       "      <th>9</th>\n",
       "      <td>4100</td>\n",
       "      <td>1.078871</td>\n",
       "      <td>112</td>\n",
       "    </tr>\n",
       "    <tr>\n",
       "      <th>10</th>\n",
       "      <td>4000</td>\n",
       "      <td>1.078953</td>\n",
       "      <td>112</td>\n",
       "    </tr>\n",
       "  </tbody>\n",
       "</table>\n",
       "</div>"
      ],
      "text/plain": [
       "    Pressure        Bo  Prod_GOR\n",
       "0       5000  1.078129       112\n",
       "1       4900  1.078211       112\n",
       "2       4800  1.078294       112\n",
       "3       4700  1.078376       112\n",
       "4       4600  1.078458       112\n",
       "5       4500  1.078541       112\n",
       "6       4400  1.078623       112\n",
       "7       4300  1.078706       112\n",
       "8       4200  1.078788       112\n",
       "9       4100  1.078871       112\n",
       "10      4000  1.078953       112"
      ]
     },
     "execution_count": 64,
     "metadata": {},
     "output_type": "execute_result"
    }
   ],
   "source": [
    "df"
   ]
  },
  {
   "cell_type": "code",
   "execution_count": 65,
   "metadata": {},
   "outputs": [
    {
     "data": {
      "text/plain": [
       "[<matplotlib.lines.Line2D at 0x294bc74100>]"
      ]
     },
     "execution_count": 65,
     "metadata": {},
     "output_type": "execute_result"
    },
    {
     "data": {
      "image/png": "[encoded data removed]",
      "text/plain": [
       "<Figure size 432x288 with 1 Axes>"
      ]
     },
     "metadata": {
      "needs_background": "light"
     },
     "output_type": "display_data"
    }
   ],
   "source": [
    "plt.plot(df['Pressure'],df['Bo'])"
   ]
  },
  {
   "cell_type": "code",
   "execution_count": null,
   "metadata": {},
   "outputs": [],
   "source": [
    "#N = OIIP \n",
    "#N = 38.8 MMSTB\n",
    "#Bo = Oil FVF\n",
    "#Boi = Initial Oil FVF\n",
    "#Np = N*(Bo-Boi)/Bo\n",
    "#Rp = SCF/STB\n"
   ]
  },
  {
   "cell_type": "code",
   "execution_count": 95,
   "metadata": {},
   "outputs": [],
   "source": [
    "Np=[]\n",
    "for i in range(0,11):\n",
    "    if b_forecast[i] == b_forecast[0]:\n",
    "        np1= 38.8\n",
    "        Np.append(np1)\n",
    "    else:\n",
    "        np= 38.8*(b_forecast[i] - b_forecast[0])/(b_forecast[i])\n",
    "        Np.append(np)\n",
    "        \n",
    "        \n",
    "        "
   ]
  },
  {
   "cell_type": "code",
   "execution_count": 97,
   "metadata": {},
   "outputs": [],
   "source": [
    "df['Np']= Np"
   ]
  },
  {
   "cell_type": "code",
   "execution_count": 104,
   "metadata": {},
   "outputs": [],
   "source": [
    "Gp=[]\n",
    "for i in range(0,11):\n",
    "    gp = Np[i]*112\n",
    "    Gp.append(gp)"
   ]
  },
  {
   "cell_type": "code",
   "execution_count": 106,
   "metadata": {},
   "outputs": [],
   "source": [
    "df['Gp']= Gp"
   ]
  },
  {
   "cell_type": "code",
   "execution_count": 107,
   "metadata": {},
   "outputs": [
    {
     "data": {
      "text/html": [
       "<div>\n",
       "<style scoped>\n",
       "    .dataframe tbody tr th:only-of-type {\n",
       "        vertical-align: middle;\n",
       "    }\n",
       "\n",
       "    .dataframe tbody tr th {\n",
       "        vertical-align: top;\n",
       "    }\n",
       "\n",
       "    .dataframe thead th {\n",
       "        text-align: right;\n",
       "    }\n",
       "</style>\n",
       "<table border=\"1\" class=\"dataframe\">\n",
       "  <thead>\n",
       "    <tr style=\"text-align: right;\">\n",
       "      <th></th>\n",
       "      <th>Pressure</th>\n",
       "      <th>Bo</th>\n",
       "      <th>Prod_GOR</th>\n",
       "      <th>Np</th>\n",
       "      <th>Gp</th>\n",
       "    </tr>\n",
       "  </thead>\n",
       "  <tbody>\n",
       "    <tr>\n",
       "      <th>0</th>\n",
       "      <td>5000</td>\n",
       "      <td>1.078129</td>\n",
       "      <td>112</td>\n",
       "      <td>38.800000</td>\n",
       "      <td>4345.600000</td>\n",
       "    </tr>\n",
       "    <tr>\n",
       "      <th>1</th>\n",
       "      <td>4900</td>\n",
       "      <td>1.078211</td>\n",
       "      <td>112</td>\n",
       "      <td>0.002967</td>\n",
       "      <td>0.332323</td>\n",
       "    </tr>\n",
       "    <tr>\n",
       "      <th>2</th>\n",
       "      <td>4800</td>\n",
       "      <td>1.078294</td>\n",
       "      <td>112</td>\n",
       "      <td>0.005934</td>\n",
       "      <td>0.664595</td>\n",
       "    </tr>\n",
       "    <tr>\n",
       "      <th>3</th>\n",
       "      <td>4700</td>\n",
       "      <td>1.078376</td>\n",
       "      <td>112</td>\n",
       "      <td>0.008900</td>\n",
       "      <td>0.996817</td>\n",
       "    </tr>\n",
       "    <tr>\n",
       "      <th>4</th>\n",
       "      <td>4600</td>\n",
       "      <td>1.078458</td>\n",
       "      <td>112</td>\n",
       "      <td>0.011866</td>\n",
       "      <td>1.328988</td>\n",
       "    </tr>\n",
       "    <tr>\n",
       "      <th>5</th>\n",
       "      <td>4500</td>\n",
       "      <td>1.078541</td>\n",
       "      <td>112</td>\n",
       "      <td>0.014831</td>\n",
       "      <td>1.661107</td>\n",
       "    </tr>\n",
       "    <tr>\n",
       "      <th>6</th>\n",
       "      <td>4400</td>\n",
       "      <td>1.078623</td>\n",
       "      <td>112</td>\n",
       "      <td>0.017796</td>\n",
       "      <td>1.993176</td>\n",
       "    </tr>\n",
       "    <tr>\n",
       "      <th>7</th>\n",
       "      <td>4300</td>\n",
       "      <td>1.078706</td>\n",
       "      <td>112</td>\n",
       "      <td>0.020761</td>\n",
       "      <td>2.325195</td>\n",
       "    </tr>\n",
       "    <tr>\n",
       "      <th>8</th>\n",
       "      <td>4200</td>\n",
       "      <td>1.078788</td>\n",
       "      <td>112</td>\n",
       "      <td>0.023725</td>\n",
       "      <td>2.657162</td>\n",
       "    </tr>\n",
       "    <tr>\n",
       "      <th>9</th>\n",
       "      <td>4100</td>\n",
       "      <td>1.078871</td>\n",
       "      <td>112</td>\n",
       "      <td>0.026688</td>\n",
       "      <td>2.989079</td>\n",
       "    </tr>\n",
       "    <tr>\n",
       "      <th>10</th>\n",
       "      <td>4000</td>\n",
       "      <td>1.078953</td>\n",
       "      <td>112</td>\n",
       "      <td>0.029651</td>\n",
       "      <td>3.320945</td>\n",
       "    </tr>\n",
       "  </tbody>\n",
       "</table>\n",
       "</div>"
      ],
      "text/plain": [
       "    Pressure        Bo  Prod_GOR         Np           Gp\n",
       "0       5000  1.078129       112  38.800000  4345.600000\n",
       "1       4900  1.078211       112   0.002967     0.332323\n",
       "2       4800  1.078294       112   0.005934     0.664595\n",
       "3       4700  1.078376       112   0.008900     0.996817\n",
       "4       4600  1.078458       112   0.011866     1.328988\n",
       "5       4500  1.078541       112   0.014831     1.661107\n",
       "6       4400  1.078623       112   0.017796     1.993176\n",
       "7       4300  1.078706       112   0.020761     2.325195\n",
       "8       4200  1.078788       112   0.023725     2.657162\n",
       "9       4100  1.078871       112   0.026688     2.989079\n",
       "10      4000  1.078953       112   0.029651     3.320945"
      ]
     },
     "execution_count": 107,
     "metadata": {},
     "output_type": "execute_result"
    }
   ],
   "source": [
    "df"
   ]
  },
  {
   "cell_type": "code",
   "execution_count": 110,
   "metadata": {},
   "outputs": [],
   "source": [
    "Np1=[]\n",
    "for i in range(0,11):\n",
    "        np= 38.8*(b_forecast[i] - b_forecast[0])/(b_forecast[i])\n",
    "        Np1.append(np)\n",
    "        "
   ]
  },
  {
   "cell_type": "code",
   "execution_count": 111,
   "metadata": {},
   "outputs": [
    {
     "data": {
      "text/plain": [
       "[0.0,\n",
       " 0.002967170533742074,\n",
       " 0.005933887282548701,\n",
       " 0.008900150350503497,\n",
       " 0.011865959841682205,\n",
       " 0.01483131586010478,\n",
       " 0.017796218509767366,\n",
       " 0.020760667894626317,\n",
       " 0.023724664118630154,\n",
       " 0.026688207285671676,\n",
       " 0.0296512974996199]"
      ]
     },
     "execution_count": 111,
     "metadata": {},
     "output_type": "execute_result"
    }
   ],
   "source": [
    "Np1"
   ]
  },
  {
   "cell_type": "code",
   "execution_count": 117,
   "metadata": {},
   "outputs": [],
   "source": [
    "Gp1=[]\n",
    "for i in range(0,11):\n",
    "    gp = Np1[i]*112\n",
    "    Gp1.append(gp)"
   ]
  },
  {
   "cell_type": "code",
   "execution_count": 118,
   "metadata": {},
   "outputs": [],
   "source": [
    "df['Gp1'] = Gp1"
   ]
  },
  {
   "cell_type": "code",
   "execution_count": 112,
   "metadata": {},
   "outputs": [],
   "source": [
    "df['Np1']= Np1"
   ]
  },
  {
   "cell_type": "code",
   "execution_count": 119,
   "metadata": {},
   "outputs": [
    {
     "data": {
      "text/html": [
       "<div>\n",
       "<style scoped>\n",
       "    .dataframe tbody tr th:only-of-type {\n",
       "        vertical-align: middle;\n",
       "    }\n",
       "\n",
       "    .dataframe tbody tr th {\n",
       "        vertical-align: top;\n",
       "    }\n",
       "\n",
       "    .dataframe thead th {\n",
       "        text-align: right;\n",
       "    }\n",
       "</style>\n",
       "<table border=\"1\" class=\"dataframe\">\n",
       "  <thead>\n",
       "    <tr style=\"text-align: right;\">\n",
       "      <th></th>\n",
       "      <th>Pressure</th>\n",
       "      <th>Bo</th>\n",
       "      <th>Prod_GOR</th>\n",
       "      <th>Np</th>\n",
       "      <th>Gp</th>\n",
       "      <th>Np1</th>\n",
       "      <th>Gp1</th>\n",
       "    </tr>\n",
       "  </thead>\n",
       "  <tbody>\n",
       "    <tr>\n",
       "      <th>0</th>\n",
       "      <td>5000</td>\n",
       "      <td>1.078129</td>\n",
       "      <td>112</td>\n",
       "      <td>38.800000</td>\n",
       "      <td>4345.600000</td>\n",
       "      <td>0.000000</td>\n",
       "      <td>0.000000</td>\n",
       "    </tr>\n",
       "    <tr>\n",
       "      <th>1</th>\n",
       "      <td>4900</td>\n",
       "      <td>1.078211</td>\n",
       "      <td>112</td>\n",
       "      <td>0.002967</td>\n",
       "      <td>0.332323</td>\n",
       "      <td>0.002967</td>\n",
       "      <td>0.332323</td>\n",
       "    </tr>\n",
       "    <tr>\n",
       "      <th>2</th>\n",
       "      <td>4800</td>\n",
       "      <td>1.078294</td>\n",
       "      <td>112</td>\n",
       "      <td>0.005934</td>\n",
       "      <td>0.664595</td>\n",
       "      <td>0.005934</td>\n",
       "      <td>0.664595</td>\n",
       "    </tr>\n",
       "    <tr>\n",
       "      <th>3</th>\n",
       "      <td>4700</td>\n",
       "      <td>1.078376</td>\n",
       "      <td>112</td>\n",
       "      <td>0.008900</td>\n",
       "      <td>0.996817</td>\n",
       "      <td>0.008900</td>\n",
       "      <td>0.996817</td>\n",
       "    </tr>\n",
       "    <tr>\n",
       "      <th>4</th>\n",
       "      <td>4600</td>\n",
       "      <td>1.078458</td>\n",
       "      <td>112</td>\n",
       "      <td>0.011866</td>\n",
       "      <td>1.328988</td>\n",
       "      <td>0.011866</td>\n",
       "      <td>1.328988</td>\n",
       "    </tr>\n",
       "    <tr>\n",
       "      <th>5</th>\n",
       "      <td>4500</td>\n",
       "      <td>1.078541</td>\n",
       "      <td>112</td>\n",
       "      <td>0.014831</td>\n",
       "      <td>1.661107</td>\n",
       "      <td>0.014831</td>\n",
       "      <td>1.661107</td>\n",
       "    </tr>\n",
       "    <tr>\n",
       "      <th>6</th>\n",
       "      <td>4400</td>\n",
       "      <td>1.078623</td>\n",
       "      <td>112</td>\n",
       "      <td>0.017796</td>\n",
       "      <td>1.993176</td>\n",
       "      <td>0.017796</td>\n",
       "      <td>1.993176</td>\n",
       "    </tr>\n",
       "    <tr>\n",
       "      <th>7</th>\n",
       "      <td>4300</td>\n",
       "      <td>1.078706</td>\n",
       "      <td>112</td>\n",
       "      <td>0.020761</td>\n",
       "      <td>2.325195</td>\n",
       "      <td>0.020761</td>\n",
       "      <td>2.325195</td>\n",
       "    </tr>\n",
       "    <tr>\n",
       "      <th>8</th>\n",
       "      <td>4200</td>\n",
       "      <td>1.078788</td>\n",
       "      <td>112</td>\n",
       "      <td>0.023725</td>\n",
       "      <td>2.657162</td>\n",
       "      <td>0.023725</td>\n",
       "      <td>2.657162</td>\n",
       "    </tr>\n",
       "    <tr>\n",
       "      <th>9</th>\n",
       "      <td>4100</td>\n",
       "      <td>1.078871</td>\n",
       "      <td>112</td>\n",
       "      <td>0.026688</td>\n",
       "      <td>2.989079</td>\n",
       "      <td>0.026688</td>\n",
       "      <td>2.989079</td>\n",
       "    </tr>\n",
       "    <tr>\n",
       "      <th>10</th>\n",
       "      <td>4000</td>\n",
       "      <td>1.078953</td>\n",
       "      <td>112</td>\n",
       "      <td>0.029651</td>\n",
       "      <td>3.320945</td>\n",
       "      <td>0.029651</td>\n",
       "      <td>3.320945</td>\n",
       "    </tr>\n",
       "  </tbody>\n",
       "</table>\n",
       "</div>"
      ],
      "text/plain": [
       "    Pressure        Bo  Prod_GOR         Np           Gp       Np1       Gp1\n",
       "0       5000  1.078129       112  38.800000  4345.600000  0.000000  0.000000\n",
       "1       4900  1.078211       112   0.002967     0.332323  0.002967  0.332323\n",
       "2       4800  1.078294       112   0.005934     0.664595  0.005934  0.664595\n",
       "3       4700  1.078376       112   0.008900     0.996817  0.008900  0.996817\n",
       "4       4600  1.078458       112   0.011866     1.328988  0.011866  1.328988\n",
       "5       4500  1.078541       112   0.014831     1.661107  0.014831  1.661107\n",
       "6       4400  1.078623       112   0.017796     1.993176  0.017796  1.993176\n",
       "7       4300  1.078706       112   0.020761     2.325195  0.020761  2.325195\n",
       "8       4200  1.078788       112   0.023725     2.657162  0.023725  2.657162\n",
       "9       4100  1.078871       112   0.026688     2.989079  0.026688  2.989079\n",
       "10      4000  1.078953       112   0.029651     3.320945  0.029651  3.320945"
      ]
     },
     "execution_count": 119,
     "metadata": {},
     "output_type": "execute_result"
    }
   ],
   "source": [
    "df"
   ]
  },
  {
   "cell_type": "code",
   "execution_count": 154,
   "metadata": {},
   "outputs": [
    {
     "data": {
      "image/png": "[encoded data removed]",
      "text/plain": [
       "<Figure size 500x500 with 1 Axes>"
      ]
     },
     "metadata": {},
     "output_type": "display_data"
    }
   ],
   "source": [
    "plt.figure(figsize=(5,5))\n",
    "plt.plot(df['Pressure'],df['Np1'])\n",
    "plt.xlim(max(df['Pressure']),min(df['Pressure']))\n",
    "plt.xlabel('Pressure')\n",
    "plt.ylabel('Oil Production [MMSTB]')\n",
    "plt.grid()\n"
   ]
  },
  {
   "cell_type": "code",
   "execution_count": 155,
   "metadata": {},
   "outputs": [
    {
     "data": {
      "image/png": "[encoded data removed]",
      "text/plain": [
       "<Figure size 500x500 with 1 Axes>"
      ]
     },
     "metadata": {},
     "output_type": "display_data"
    }
   ],
   "source": [
    "plt.figure(figsize=(5,5))\n",
    "plt.plot(df['Pressure'],df['Gp1'])\n",
    "plt.xlim(max(df['Pressure']),min(df['Pressure']))\n",
    "plt.xlabel('Pressure')\n",
    "plt.ylabel('Gas Production [MMSCF]')\n",
    "plt.grid()\n"
   ]
  },
  {
   "cell_type": "code",
   "execution_count": 146,
   "metadata": {},
   "outputs": [
    {
     "data": {
      "text/plain": [
       "<matplotlib.legend.Legend at 0x294c039af0>"
      ]
     },
     "execution_count": 146,
     "metadata": {},
     "output_type": "execute_result"
    },
    {
     "data": {
      "image/png": "[encoded data removed]",
      "text/plain": [
       "<Figure size 500x500 with 1 Axes>"
      ]
     },
     "metadata": {},
     "output_type": "display_data"
    }
   ],
   "source": [
    "plt.figure(figsize=(5,5))\n",
    "plt.style.use('default')\n",
    "plt.semilogx(df['Np1'],df['Pressure'],color='r',label='Oil Production')\n",
    "plt.semilogx(df['Gp1'],df['Pressure'],color='purple',label='Gas Production')\n",
    "plt.grid()\n",
    "plt.xlabel('OIL and GAS Production')\n",
    "plt.ylabel('Pressure')\n",
    "plt.ylim(5200,3900)\n",
    "plt.legend(loc='best')"
   ]
  },
  {
   "cell_type": "code",
   "execution_count": null,
   "metadata": {},
   "outputs": [],
   "source": []
  }
 ],
 "metadata": {
  "kernelspec": {
   "display_name": "Python 3",
   "language": "python",
   "name": "python3"
  },
  "language_info": {
   "codemirror_mode": {
    "name": "ipython",
    "version": 3
   },
   "file_extension": ".py",
   "mimetype": "text/x-python",
   "name": "python",
   "nbconvert_exporter": "python",
   "pygments_lexer": "ipython3",
   "version": "3.8.3"
  }
 },
 "nbformat": 4,
 "nbformat_minor": 4
}
